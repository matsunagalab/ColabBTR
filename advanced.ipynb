{
  "nbformat": 4,
  "nbformat_minor": 0,
  "metadata": {
    "colab": {
      "provenance": [],
      "toc_visible": true,
      "authorship_tag": "ABX9TyO5gYqTWDkNfQNRxh0WdnVU",
      "include_colab_link": true
    },
    "kernelspec": {
      "name": "python3",
      "display_name": "Python 3"
    },
    "language_info": {
      "name": "python"
    }
  },
  "cells": [
    {
      "cell_type": "markdown",
      "metadata": {
        "id": "view-in-github",
        "colab_type": "text"
      },
      "source": [
        "<a href=\"https://colab.research.google.com/github/matsunagalab/ColabBTR/blob/main/advanced.ipynb\" target=\"_parent\"><img src=\"https://colab.research.google.com/assets/colab-badge.svg\" alt=\"Open In Colab\"/></a>"
      ]
    },
    {
      "cell_type": "markdown",
      "source": [
        "# 動的計画法の応用例"
      ],
      "metadata": {
        "id": "jgv4kjYr0DSk"
      }
    },
    {
      "cell_type": "markdown",
      "source": [
        "前回と同じように「ドライブにコピーを保存」してから始めてください。"
      ],
      "metadata": {
        "id": "Crau25rIvKds"
      }
    },
    {
      "cell_type": "markdown",
      "source": [
        "今回は、動的計画法の応用例を2つ示します。これまで使ってきたソルバは使わずに、python文法だけで動的計画法を実装していきます。"
      ],
      "metadata": {
        "id": "YzFfSSpLYpiO"
      }
    },
    {
      "cell_type": "markdown",
      "source": [
        "## Levenshtein距離"
      ],
      "metadata": {
        "id": "ckjlwEos0RIk"
      }
    },
    {
      "cell_type": "code",
      "execution_count": 1,
      "metadata": {
        "id": "gDzz_WH4zBBG"
      },
      "outputs": [],
      "source": [
        "def levenshtein_distance(s1, s2):\n",
        "    m, n = len(s1), len(s2)\n",
        "\n",
        "    # DPテーブルを初期化\n",
        "    dp = [[0] * (n + 1) for _ in range(m + 1)]\n",
        "\n",
        "    # 初期条件: 空文字列から変換するコスト\n",
        "    for i in range(m + 1):\n",
        "        dp[i][0] = i  # 削除コスト\n",
        "    for j in range(n + 1):\n",
        "        dp[0][j] = j  # 挿入コスト\n",
        "\n",
        "    # DPテーブルを埋める\n",
        "    for i in range(1, m + 1):\n",
        "        for j in range(1, n + 1):\n",
        "            if s1[i - 1] == s2[j - 1]:  # 一致の場合\n",
        "                cost = 0\n",
        "            else:  # 置換の場合\n",
        "                cost = 1\n",
        "            dp[i][j] = min(\n",
        "                dp[i - 1][j] + 1,    # 削除\n",
        "                dp[i][j - 1] + 1,    # 挿入\n",
        "                dp[i - 1][j - 1] + cost  # 置換\n",
        "            )\n",
        "\n",
        "    # 最終的なLevenshtein距離\n",
        "    return dp[m][n]"
      ]
    },
    {
      "cell_type": "code",
      "source": [
        "s1 = \"kitten\"\n",
        "s2 = \"sitting\"\n",
        "print(\"Levenshtein距離:\", levenshtein_distance(s1, s2))  # 出力: 3"
      ],
      "metadata": {
        "colab": {
          "base_uri": "https://localhost:8080/"
        },
        "id": "HZOAXSqg9w3I",
        "outputId": "2bb3e44d-ed52-4cb5-fe58-3b3681881ff4"
      },
      "execution_count": 2,
      "outputs": [
        {
          "output_type": "stream",
          "name": "stdout",
          "text": [
            "Levenshtein距離: 3\n"
          ]
        }
      ]
    },
    {
      "cell_type": "markdown",
      "source": [
        "## アラインメント"
      ],
      "metadata": {
        "id": "wNuXJavYvkgp"
      }
    },
    {
      "cell_type": "code",
      "source": [
        "def needleman_wunsch(seq1, seq2, match_score=1, mismatch_penalty=-1, gap_penalty=-1):\n",
        "    m, n = len(seq1), len(seq2)\n",
        "\n",
        "    # DPテーブルとトレースバックテーブルを初期化\n",
        "    dp = [[0] * (n + 1) for _ in range(m + 1)]\n",
        "    traceback = [[None] * (n + 1) for _ in range(m + 1)]\n",
        "\n",
        "    # 初期条件の設定（ギャップペナルティー）\n",
        "    for i in range(1, m + 1):\n",
        "        dp[i][0] = dp[i - 1][0] + gap_penalty\n",
        "        traceback[i][0] = \"up\"\n",
        "    for j in range(1, n + 1):\n",
        "        dp[0][j] = dp[0][j - 1] + gap_penalty\n",
        "        traceback[0][j] = \"left\"\n",
        "\n",
        "    # DPテーブルの計算\n",
        "    for i in range(1, m + 1):\n",
        "        for j in range(1, n + 1):\n",
        "            match = dp[i - 1][j - 1] + (match_score if seq1[i - 1] == seq2[j - 1] else mismatch_penalty)\n",
        "            delete = dp[i - 1][j] + gap_penalty\n",
        "            insert = dp[i][j - 1] + gap_penalty\n",
        "            dp[i][j] = max(match, delete, insert)\n",
        "\n",
        "            # トレースバックの記録\n",
        "            if dp[i][j] == match:\n",
        "                traceback[i][j] = \"diag\"\n",
        "            elif dp[i][j] == delete:\n",
        "                traceback[i][j] = \"up\"\n",
        "            else:\n",
        "                traceback[i][j] = \"left\"\n",
        "\n",
        "    # アラインメントのトレースバック\n",
        "    aligned_seq1 = []\n",
        "    aligned_seq2 = []\n",
        "    i, j = m, n\n",
        "    while i > 0 or j > 0:\n",
        "        if traceback[i][j] == \"diag\":\n",
        "            aligned_seq1.append(seq1[i - 1])\n",
        "            aligned_seq2.append(seq2[j - 1])\n",
        "            i -= 1\n",
        "            j -= 1\n",
        "        elif traceback[i][j] == \"up\":\n",
        "            aligned_seq1.append(seq1[i - 1])\n",
        "            aligned_seq2.append(\"-\")\n",
        "            i -= 1\n",
        "        elif traceback[i][j] == \"left\":\n",
        "            aligned_seq1.append(\"-\")\n",
        "            aligned_seq2.append(seq2[j - 1])\n",
        "            j -= 1\n",
        "\n",
        "    # アラインメント結果を逆順にする\n",
        "    aligned_seq1 = \"\".join(reversed(aligned_seq1))\n",
        "    aligned_seq2 = \"\".join(reversed(aligned_seq2))\n",
        "\n",
        "    return dp[m][n], aligned_seq1, aligned_seq2"
      ],
      "metadata": {
        "id": "XDcg295f-jGv"
      },
      "execution_count": 5,
      "outputs": []
    },
    {
      "cell_type": "code",
      "source": [
        "seq1 = \"GCTAGA\"\n",
        "seq2 = \"AGCTAG\"\n",
        "score, aligned_seq1, aligned_seq2 = needleman_wunsch(seq1, seq2)\n",
        "\n",
        "print(\"アラインメントスコア:\", score)\n",
        "print(\"アラインメント結果:\")\n",
        "print(aligned_seq1)\n",
        "print(aligned_seq2)"
      ],
      "metadata": {
        "colab": {
          "base_uri": "https://localhost:8080/"
        },
        "id": "ApMAfIOB-3Xd",
        "outputId": "4feff5c6-aa00-4042-be09-d5cf31610a85"
      },
      "execution_count": 6,
      "outputs": [
        {
          "output_type": "stream",
          "name": "stdout",
          "text": [
            "アラインメントスコア: 3\n",
            "アラインメント結果:\n",
            "-GCTAGA\n",
            "AGCTAG-\n"
          ]
        }
      ]
    }
  ]
}